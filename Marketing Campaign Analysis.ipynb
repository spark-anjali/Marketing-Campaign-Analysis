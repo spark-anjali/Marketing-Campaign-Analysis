{
 "cells": [
  {
   "cell_type": "markdown",
   "id": "ebaee971-59d4-435c-978b-681ed345b23f",
   "metadata": {},
   "source": [
    "# Marketing Campaign Effectiveness Analysis"
   ]
  },
  {
   "cell_type": "code",
   "execution_count": 83,
   "id": "ac394731-611c-4c7d-8086-51980e5c2cb6",
   "metadata": {},
   "outputs": [],
   "source": [
    "import pandas as pd\n",
    "import numpy as np\n",
    "import matplotlib.pyplot as plt\n",
    "import seaborn as sns"
   ]
  },
  {
   "cell_type": "code",
   "execution_count": 6,
   "id": "90038c2b-574d-4d0a-b09e-1c0dc00faf60",
   "metadata": {},
   "outputs": [
    {
     "data": {
      "text/html": [
       "<div>\n",
       "<style scoped>\n",
       "    .dataframe tbody tr th:only-of-type {\n",
       "        vertical-align: middle;\n",
       "    }\n",
       "\n",
       "    .dataframe tbody tr th {\n",
       "        vertical-align: top;\n",
       "    }\n",
       "\n",
       "    .dataframe thead th {\n",
       "        text-align: right;\n",
       "    }\n",
       "</style>\n",
       "<table border=\"1\" class=\"dataframe\">\n",
       "  <thead>\n",
       "    <tr style=\"text-align: right;\">\n",
       "      <th></th>\n",
       "      <th>Customer ID</th>\n",
       "      <th>Age</th>\n",
       "      <th>Gender</th>\n",
       "      <th>Location</th>\n",
       "      <th>Income Level</th>\n",
       "    </tr>\n",
       "  </thead>\n",
       "  <tbody>\n",
       "    <tr>\n",
       "      <th>0</th>\n",
       "      <td>1</td>\n",
       "      <td>65</td>\n",
       "      <td>Male</td>\n",
       "      <td>Martinezmouth</td>\n",
       "      <td>61083</td>\n",
       "    </tr>\n",
       "    <tr>\n",
       "      <th>1</th>\n",
       "      <td>2</td>\n",
       "      <td>43</td>\n",
       "      <td>Non-binary</td>\n",
       "      <td>South Anne</td>\n",
       "      <td>90419</td>\n",
       "    </tr>\n",
       "    <tr>\n",
       "      <th>2</th>\n",
       "      <td>3</td>\n",
       "      <td>58</td>\n",
       "      <td>Non-binary</td>\n",
       "      <td>West Darrellport</td>\n",
       "      <td>38260</td>\n",
       "    </tr>\n",
       "    <tr>\n",
       "      <th>3</th>\n",
       "      <td>4</td>\n",
       "      <td>53</td>\n",
       "      <td>Non-binary</td>\n",
       "      <td>Stevenshire</td>\n",
       "      <td>34649</td>\n",
       "    </tr>\n",
       "    <tr>\n",
       "      <th>4</th>\n",
       "      <td>5</td>\n",
       "      <td>69</td>\n",
       "      <td>Female</td>\n",
       "      <td>South Kellychester</td>\n",
       "      <td>70420</td>\n",
       "    </tr>\n",
       "  </tbody>\n",
       "</table>\n",
       "</div>"
      ],
      "text/plain": [
       "   Customer ID  Age      Gender            Location  Income Level\n",
       "0            1   65        Male       Martinezmouth         61083\n",
       "1            2   43  Non-binary          South Anne         90419\n",
       "2            3   58  Non-binary    West Darrellport         38260\n",
       "3            4   53  Non-binary         Stevenshire         34649\n",
       "4            5   69      Female  South Kellychester         70420"
      ]
     },
     "execution_count": 6,
     "metadata": {},
     "output_type": "execute_result"
    }
   ],
   "source": [
    "# Customer Demographic Data\n",
    "cust_demo_data = pd.read_csv(\"/Users/anjalipriya/Downloads/Datasets/customer_demographic_data.csv\")\n",
    "cust_demo_data.head()"
   ]
  },
  {
   "cell_type": "code",
   "execution_count": 10,
   "id": "4ffa5a02-7d04-47b7-9d38-5fd34f05ba51",
   "metadata": {},
   "outputs": [
    {
     "data": {
      "text/html": [
       "<div>\n",
       "<style scoped>\n",
       "    .dataframe tbody tr th:only-of-type {\n",
       "        vertical-align: middle;\n",
       "    }\n",
       "\n",
       "    .dataframe tbody tr th {\n",
       "        vertical-align: top;\n",
       "    }\n",
       "\n",
       "    .dataframe thead th {\n",
       "        text-align: right;\n",
       "    }\n",
       "</style>\n",
       "<table border=\"1\" class=\"dataframe\">\n",
       "  <thead>\n",
       "    <tr style=\"text-align: right;\">\n",
       "      <th></th>\n",
       "      <th>Customer ID</th>\n",
       "      <th>Interaction Date</th>\n",
       "      <th>Interaction Type</th>\n",
       "      <th>Interaction Channel</th>\n",
       "    </tr>\n",
       "  </thead>\n",
       "  <tbody>\n",
       "    <tr>\n",
       "      <th>0</th>\n",
       "      <td>1</td>\n",
       "      <td>2/28/2024</td>\n",
       "      <td>share</td>\n",
       "      <td>website</td>\n",
       "    </tr>\n",
       "    <tr>\n",
       "      <th>1</th>\n",
       "      <td>2</td>\n",
       "      <td>4/27/2024</td>\n",
       "      <td>view</td>\n",
       "      <td>social media</td>\n",
       "    </tr>\n",
       "    <tr>\n",
       "      <th>2</th>\n",
       "      <td>3</td>\n",
       "      <td>2/26/2024</td>\n",
       "      <td>share</td>\n",
       "      <td>email</td>\n",
       "    </tr>\n",
       "    <tr>\n",
       "      <th>3</th>\n",
       "      <td>4</td>\n",
       "      <td>2/13/2024</td>\n",
       "      <td>click</td>\n",
       "      <td>email</td>\n",
       "    </tr>\n",
       "    <tr>\n",
       "      <th>4</th>\n",
       "      <td>5</td>\n",
       "      <td>4/1/2024</td>\n",
       "      <td>share</td>\n",
       "      <td>social media</td>\n",
       "    </tr>\n",
       "  </tbody>\n",
       "</table>\n",
       "</div>"
      ],
      "text/plain": [
       "   Customer ID Interaction Date Interaction Type Interaction Channel\n",
       "0            1        2/28/2024            share             website\n",
       "1            2        4/27/2024             view        social media\n",
       "2            3        2/26/2024            share               email\n",
       "3            4        2/13/2024            click               email\n",
       "4            5         4/1/2024            share        social media"
      ]
     },
     "execution_count": 10,
     "metadata": {},
     "output_type": "execute_result"
    }
   ],
   "source": [
    "# Customer Interactive Data\n",
    "cust_inter_data =  pd.read_csv(\"/Users/anjalipriya/Downloads/Datasets/customer_interactions.csv\")\n",
    "cust_inter_data.head()"
   ]
  },
  {
   "cell_type": "code",
   "execution_count": 14,
   "id": "67efbd9c-11d3-4216-ac35-540b9e95d440",
   "metadata": {},
   "outputs": [
    {
     "data": {
      "text/html": [
       "<div>\n",
       "<style scoped>\n",
       "    .dataframe tbody tr th:only-of-type {\n",
       "        vertical-align: middle;\n",
       "    }\n",
       "\n",
       "    .dataframe tbody tr th {\n",
       "        vertical-align: top;\n",
       "    }\n",
       "\n",
       "    .dataframe thead th {\n",
       "        text-align: right;\n",
       "    }\n",
       "</style>\n",
       "<table border=\"1\" class=\"dataframe\">\n",
       "  <thead>\n",
       "    <tr style=\"text-align: right;\">\n",
       "      <th></th>\n",
       "      <th>Transaction ID</th>\n",
       "      <th>Transaction Date</th>\n",
       "      <th>Customer ID</th>\n",
       "      <th>Product ID</th>\n",
       "      <th>Product Category</th>\n",
       "      <th>Sales Amount</th>\n",
       "      <th>Quantity</th>\n",
       "    </tr>\n",
       "  </thead>\n",
       "  <tbody>\n",
       "    <tr>\n",
       "      <th>0</th>\n",
       "      <td>1</td>\n",
       "      <td>1/19/2024</td>\n",
       "      <td>213</td>\n",
       "      <td>345</td>\n",
       "      <td>Books</td>\n",
       "      <td>295.15</td>\n",
       "      <td>7</td>\n",
       "    </tr>\n",
       "    <tr>\n",
       "      <th>1</th>\n",
       "      <td>2</td>\n",
       "      <td>6/11/2024</td>\n",
       "      <td>59</td>\n",
       "      <td>134</td>\n",
       "      <td>Electronics</td>\n",
       "      <td>457.78</td>\n",
       "      <td>1</td>\n",
       "    </tr>\n",
       "    <tr>\n",
       "      <th>2</th>\n",
       "      <td>3</td>\n",
       "      <td>1/10/2024</td>\n",
       "      <td>178</td>\n",
       "      <td>89</td>\n",
       "      <td>Electronics</td>\n",
       "      <td>423.84</td>\n",
       "      <td>2</td>\n",
       "    </tr>\n",
       "    <tr>\n",
       "      <th>3</th>\n",
       "      <td>4</td>\n",
       "      <td>5/30/2024</td>\n",
       "      <td>359</td>\n",
       "      <td>423</td>\n",
       "      <td>Home &amp; Kitchen</td>\n",
       "      <td>497.52</td>\n",
       "      <td>1</td>\n",
       "    </tr>\n",
       "    <tr>\n",
       "      <th>4</th>\n",
       "      <td>5</td>\n",
       "      <td>3/21/2024</td>\n",
       "      <td>384</td>\n",
       "      <td>139</td>\n",
       "      <td>Clothing</td>\n",
       "      <td>164.21</td>\n",
       "      <td>7</td>\n",
       "    </tr>\n",
       "  </tbody>\n",
       "</table>\n",
       "</div>"
      ],
      "text/plain": [
       "   Transaction ID Transaction Date  Customer ID  Product ID Product Category  \\\n",
       "0               1        1/19/2024          213         345            Books   \n",
       "1               2        6/11/2024           59         134      Electronics   \n",
       "2               3        1/10/2024          178          89      Electronics   \n",
       "3               4        5/30/2024          359         423   Home & Kitchen   \n",
       "4               5        3/21/2024          384         139         Clothing   \n",
       "\n",
       "   Sales Amount  Quantity  \n",
       "0        295.15         7  \n",
       "1        457.78         1  \n",
       "2        423.84         2  \n",
       "3        497.52         1  \n",
       "4        164.21         7  "
      ]
     },
     "execution_count": 14,
     "metadata": {},
     "output_type": "execute_result"
    }
   ],
   "source": [
    "# Sales Data\n",
    "sales_data = pd.read_csv(\"/Users/anjalipriya/Downloads/Datasets/sales_data.csv\")\n",
    "sales_data.head()"
   ]
  },
  {
   "cell_type": "markdown",
   "id": "ee032889-74f5-4da7-a439-e090c101d1a2",
   "metadata": {},
   "source": [
    "## Data cleaning"
   ]
  },
  {
   "cell_type": "markdown",
   "id": "f93b249e-2768-495b-be90-66236166b634",
   "metadata": {},
   "source": [
    "### Customer Demographic Data"
   ]
  },
  {
   "cell_type": "code",
   "execution_count": 18,
   "id": "6a7d4287-1481-4610-baf6-eddd97346ad5",
   "metadata": {},
   "outputs": [
    {
     "data": {
      "text/plain": [
       "Customer ID      int64\n",
       "Age              int64\n",
       "Gender          object\n",
       "Location        object\n",
       "Income Level     int64\n",
       "dtype: object"
      ]
     },
     "execution_count": 18,
     "metadata": {},
     "output_type": "execute_result"
    }
   ],
   "source": [
    "cust_demo_data.dtypes"
   ]
  },
  {
   "cell_type": "code",
   "execution_count": 26,
   "id": "613670b9-52b6-4bc6-8709-4ca3dd1a3a4a",
   "metadata": {},
   "outputs": [
    {
     "data": {
      "text/plain": [
       "Customer ID     0\n",
       "Age             0\n",
       "Gender          0\n",
       "Location        0\n",
       "Income Level    0\n",
       "dtype: int64"
      ]
     },
     "execution_count": 26,
     "metadata": {},
     "output_type": "execute_result"
    }
   ],
   "source": [
    "cust_demo_data.isnull().sum()"
   ]
  },
  {
   "cell_type": "markdown",
   "id": "5fd4aebb-8ce7-48a4-b6ae-93d7eeebfdde",
   "metadata": {},
   "source": [
    "### Customer Interactive Data"
   ]
  },
  {
   "cell_type": "code",
   "execution_count": 33,
   "id": "4b665e1c-9f1f-4825-bec8-6b2b7ce6b44e",
   "metadata": {},
   "outputs": [
    {
     "data": {
      "text/plain": [
       "Customer ID             int64\n",
       "Interaction Date       object\n",
       "Interaction Type       object\n",
       "Interaction Channel    object\n",
       "dtype: object"
      ]
     },
     "execution_count": 33,
     "metadata": {},
     "output_type": "execute_result"
    }
   ],
   "source": [
    "cust_inter_data.dtypes"
   ]
  },
  {
   "cell_type": "code",
   "execution_count": 37,
   "id": "d29a6ba2-9d67-41c5-acb9-8a185d75c8ba",
   "metadata": {},
   "outputs": [],
   "source": [
    "cust_inter_data[\"Interaction Date\"] = cust_inter_data[\"Interaction Date\"].astype(\"datetime64[ns]\")"
   ]
  },
  {
   "cell_type": "code",
   "execution_count": 39,
   "id": "cefe3732-77a6-41a1-b0bc-8fd783149b97",
   "metadata": {},
   "outputs": [
    {
     "data": {
      "text/plain": [
       "Customer ID                     int64\n",
       "Interaction Date       datetime64[ns]\n",
       "Interaction Type               object\n",
       "Interaction Channel            object\n",
       "dtype: object"
      ]
     },
     "execution_count": 39,
     "metadata": {},
     "output_type": "execute_result"
    }
   ],
   "source": [
    "cust_inter_data.dtypes"
   ]
  },
  {
   "cell_type": "code",
   "execution_count": 41,
   "id": "e936c30f-8a47-4910-a544-332bf6fd2136",
   "metadata": {},
   "outputs": [
    {
     "data": {
      "text/plain": [
       "Customer ID             0\n",
       "Interaction Date        0\n",
       "Interaction Type        0\n",
       "Interaction Channel    11\n",
       "dtype: int64"
      ]
     },
     "execution_count": 41,
     "metadata": {},
     "output_type": "execute_result"
    }
   ],
   "source": [
    "cust_inter_data.isnull().sum()"
   ]
  },
  {
   "cell_type": "code",
   "execution_count": 43,
   "id": "5a7f98c7-ecd4-425c-bcc5-26d64e4ed3ed",
   "metadata": {},
   "outputs": [
    {
     "data": {
      "text/plain": [
       "(1000, 4)"
      ]
     },
     "execution_count": 43,
     "metadata": {},
     "output_type": "execute_result"
    }
   ],
   "source": [
    "cust_inter_data.shape"
   ]
  },
  {
   "cell_type": "code",
   "execution_count": 45,
   "id": "87fab9ab-347a-4900-a917-dc8a48b28c30",
   "metadata": {},
   "outputs": [
    {
     "data": {
      "text/plain": [
       "Interaction Channel\n",
       "website         334\n",
       "email           329\n",
       "social media    326\n",
       "Name: count, dtype: int64"
      ]
     },
     "execution_count": 45,
     "metadata": {},
     "output_type": "execute_result"
    }
   ],
   "source": [
    "cust_inter_data[\"Interaction Channel\"].value_counts()"
   ]
  },
  {
   "cell_type": "code",
   "execution_count": 47,
   "id": "8ba89304-5ba6-487e-b484-614d67d74301",
   "metadata": {},
   "outputs": [],
   "source": [
    "# replacing the missing value by more frequent value\n",
    "cust_inter_data[\"Interaction Channel\"].fillna(\"website\",inplace = True)"
   ]
  },
  {
   "cell_type": "code",
   "execution_count": 49,
   "id": "48f807a1-53cf-4118-8396-4f0f9ecd2d36",
   "metadata": {},
   "outputs": [
    {
     "data": {
      "text/plain": [
       "Customer ID            0\n",
       "Interaction Date       0\n",
       "Interaction Type       0\n",
       "Interaction Channel    0\n",
       "dtype: int64"
      ]
     },
     "execution_count": 49,
     "metadata": {},
     "output_type": "execute_result"
    }
   ],
   "source": [
    "cust_inter_data.isnull().sum()"
   ]
  },
  {
   "cell_type": "markdown",
   "id": "595e37ee-cd92-4fa7-b036-849b3436fbd6",
   "metadata": {},
   "source": [
    "### Sales Data"
   ]
  },
  {
   "cell_type": "code",
   "execution_count": 53,
   "id": "a95d5595-c8ef-4397-8a33-31cc8d06b11e",
   "metadata": {},
   "outputs": [
    {
     "data": {
      "text/plain": [
       "Transaction ID        int64\n",
       "Transaction Date     object\n",
       "Customer ID           int64\n",
       "Product ID            int64\n",
       "Product Category     object\n",
       "Sales Amount        float64\n",
       "Quantity              int64\n",
       "dtype: object"
      ]
     },
     "execution_count": 53,
     "metadata": {},
     "output_type": "execute_result"
    }
   ],
   "source": [
    "sales_data.dtypes"
   ]
  },
  {
   "cell_type": "code",
   "execution_count": 55,
   "id": "95dafa4c-4e22-4731-99dc-019714d85de2",
   "metadata": {},
   "outputs": [],
   "source": [
    " sales_data[\"Transaction Date\"] = sales_data[\"Transaction Date\"].astype(\"datetime64[ns]\")"
   ]
  },
  {
   "cell_type": "code",
   "execution_count": 57,
   "id": "dccb72bc-224f-4032-a973-001df9794dad",
   "metadata": {},
   "outputs": [
    {
     "data": {
      "text/plain": [
       "Transaction ID               int64\n",
       "Transaction Date    datetime64[ns]\n",
       "Customer ID                  int64\n",
       "Product ID                   int64\n",
       "Product Category            object\n",
       "Sales Amount               float64\n",
       "Quantity                     int64\n",
       "dtype: object"
      ]
     },
     "execution_count": 57,
     "metadata": {},
     "output_type": "execute_result"
    }
   ],
   "source": [
    "sales_data.dtypes"
   ]
  },
  {
   "cell_type": "code",
   "execution_count": 59,
   "id": "e139da64-d599-4c1a-a425-270cb48082d2",
   "metadata": {},
   "outputs": [
    {
     "data": {
      "text/plain": [
       "Transaction ID      0\n",
       "Transaction Date    0\n",
       "Customer ID         0\n",
       "Product ID          0\n",
       "Product Category    0\n",
       "Sales Amount        0\n",
       "Quantity            0\n",
       "dtype: int64"
      ]
     },
     "execution_count": 59,
     "metadata": {},
     "output_type": "execute_result"
    }
   ],
   "source": [
    "sales_data.isnull().sum()"
   ]
  },
  {
   "cell_type": "markdown",
   "id": "5b98c3a1-b1ac-4ac6-a4f6-62650d3f51f5",
   "metadata": {},
   "source": [
    "## Data Analysis"
   ]
  },
  {
   "cell_type": "markdown",
   "id": "ab67707f-89e9-4b80-b1a8-b9f3b40abdd1",
   "metadata": {},
   "source": [
    "#### How many customers interacted with our campaign materials, and what was the engagement rate?"
   ]
  },
  {
   "cell_type": "code",
   "execution_count": 65,
   "id": "95bfe3a6-2af0-460e-bb69-be7b9c820a3a",
   "metadata": {},
   "outputs": [
    {
     "data": {
      "text/html": [
       "<div>\n",
       "<style scoped>\n",
       "    .dataframe tbody tr th:only-of-type {\n",
       "        vertical-align: middle;\n",
       "    }\n",
       "\n",
       "    .dataframe tbody tr th {\n",
       "        vertical-align: top;\n",
       "    }\n",
       "\n",
       "    .dataframe thead th {\n",
       "        text-align: right;\n",
       "    }\n",
       "</style>\n",
       "<table border=\"1\" class=\"dataframe\">\n",
       "  <thead>\n",
       "    <tr style=\"text-align: right;\">\n",
       "      <th></th>\n",
       "      <th>Customer ID</th>\n",
       "      <th>Interaction Date</th>\n",
       "      <th>Interaction Type</th>\n",
       "      <th>Interaction Channel</th>\n",
       "    </tr>\n",
       "  </thead>\n",
       "  <tbody>\n",
       "    <tr>\n",
       "      <th>0</th>\n",
       "      <td>1</td>\n",
       "      <td>2024-02-28</td>\n",
       "      <td>share</td>\n",
       "      <td>website</td>\n",
       "    </tr>\n",
       "    <tr>\n",
       "      <th>1</th>\n",
       "      <td>2</td>\n",
       "      <td>2024-04-27</td>\n",
       "      <td>view</td>\n",
       "      <td>social media</td>\n",
       "    </tr>\n",
       "  </tbody>\n",
       "</table>\n",
       "</div>"
      ],
      "text/plain": [
       "   Customer ID Interaction Date Interaction Type Interaction Channel\n",
       "0            1       2024-02-28            share             website\n",
       "1            2       2024-04-27             view        social media"
      ]
     },
     "execution_count": 65,
     "metadata": {},
     "output_type": "execute_result"
    }
   ],
   "source": [
    "cust_inter_data.head(2)"
   ]
  },
  {
   "cell_type": "code",
   "execution_count": 75,
   "id": "bc8ee6c9-e893-4955-b1a7-164cca716f81",
   "metadata": {},
   "outputs": [
    {
     "data": {
      "text/plain": [
       "1000"
      ]
     },
     "execution_count": 75,
     "metadata": {},
     "output_type": "execute_result"
    }
   ],
   "source": [
    "#Total customers interacted with our campaign\n",
    "cust_inter_data[\"Customer ID\"].nunique()"
   ]
  },
  {
   "cell_type": "code",
   "execution_count": 79,
   "id": "fad2cc76-9080-4a12-8843-090f2f827f62",
   "metadata": {},
   "outputs": [
    {
     "data": {
      "text/plain": [
       "Interaction Type\n",
       "share    35.6\n",
       "click    32.6\n",
       "view     31.8\n",
       "Name: count, dtype: float64"
      ]
     },
     "execution_count": 79,
     "metadata": {},
     "output_type": "execute_result"
    }
   ],
   "source": [
    "# Total customers interacted with our campaign by Type\n",
    "total = (cust_inter_data[\"Interaction Type\"].value_counts()/1000)*100\n",
    "total"
   ]
  },
  {
   "cell_type": "code",
   "execution_count": 85,
   "id": "7a247a0c-3db5-43df-8c04-569632b57d60",
   "metadata": {},
   "outputs": [
    {
     "data": {
      "image/png": "[encoded data removed]",
      "text/plain": [
       "<Figure size 640x480 with 1 Axes>"
      ]
     },
     "metadata": {},
     "output_type": "display_data"
    }
   ],
   "source": [
    "plt.pie(total,labels = total.index,autopct = '%1.1f%%')\n",
    "plt.title(\"Percentage of customers interacted by type\")\n",
    "plt.show()"
   ]
  },
  {
   "cell_type": "code",
   "execution_count": 91,
   "id": "8504c74f-0cb1-49e0-8ffc-e273c8870b6d",
   "metadata": {},
   "outputs": [
    {
     "data": {
      "text/plain": [
       "Interaction Channel\n",
       "website         345\n",
       "email           329\n",
       "social media    326\n",
       "Name: count, dtype: int64"
      ]
     },
     "execution_count": 91,
     "metadata": {},
     "output_type": "execute_result"
    }
   ],
   "source": [
    "# Total customers interacted with our campaign by channel\n",
    "total_Channel = cust_inter_data[\"Interaction Channel\"].value_counts()\n",
    "total_Channel"
   ]
  },
  {
   "cell_type": "code",
   "execution_count": 93,
   "id": "5bfcfcd6-4afc-4da2-91d5-9c968a17adc0",
   "metadata": {},
   "outputs": [
    {
     "data": {
      "image/png": "[encoded data removed]",
      "text/plain": [
       "<Figure size 640x480 with 1 Axes>"
      ]
     },
     "metadata": {},
     "output_type": "display_data"
    }
   ],
   "source": [
    "plt.bar(total_Channel.index,total_Channel.values)\n",
    "plt.title(\"Total customers interacted by channel\")\n",
    "plt.xlabel(\"Interaction Channel\")\n",
    "plt.ylabel(\"Counts of Customers\")\n",
    "plt.show()"
   ]
  },
  {
   "cell_type": "markdown",
   "id": "705abe20-9281-4b86-8bf1-6c2af492de0b",
   "metadata": {},
   "source": [
    "### Engagement Rate for the Campaign"
   ]
  },
  {
   "cell_type": "code",
   "execution_count": 99,
   "id": "d37564f2-c339-433d-8f13-1064d2dcd98d",
   "metadata": {},
   "outputs": [
    {
     "name": "stdout",
     "output_type": "stream",
     "text": [
      "Engagement rate : 66.67 %\n"
     ]
    }
   ],
   "source": [
    "engagement_rate = (1000/1500)*100\n",
    "print(\"Engagement rate :\",round(engagement_rate,2),\"%\")"
   ]
  },
  {
   "cell_type": "markdown",
   "id": "134a81ab-38d9-4d82-a618-dc39d36b5989",
   "metadata": {},
   "source": [
    "#### What percentage of engaged customers made a purchase, and how does this compare to our targets?"
   ]
  },
  {
   "cell_type": "code",
   "execution_count": 103,
   "id": "fc389ce5-887b-4e66-98dc-076219882344",
   "metadata": {},
   "outputs": [
    {
     "data": {
      "text/html": [
       "<div>\n",
       "<style scoped>\n",
       "    .dataframe tbody tr th:only-of-type {\n",
       "        vertical-align: middle;\n",
       "    }\n",
       "\n",
       "    .dataframe tbody tr th {\n",
       "        vertical-align: top;\n",
       "    }\n",
       "\n",
       "    .dataframe thead th {\n",
       "        text-align: right;\n",
       "    }\n",
       "</style>\n",
       "<table border=\"1\" class=\"dataframe\">\n",
       "  <thead>\n",
       "    <tr style=\"text-align: right;\">\n",
       "      <th></th>\n",
       "      <th>Customer ID</th>\n",
       "      <th>Interaction Date</th>\n",
       "      <th>Interaction Type</th>\n",
       "      <th>Interaction Channel</th>\n",
       "      <th>Transaction ID</th>\n",
       "      <th>Transaction Date</th>\n",
       "      <th>Product ID</th>\n",
       "      <th>Product Category</th>\n",
       "      <th>Sales Amount</th>\n",
       "      <th>Quantity</th>\n",
       "    </tr>\n",
       "  </thead>\n",
       "  <tbody>\n",
       "    <tr>\n",
       "      <th>0</th>\n",
       "      <td>1</td>\n",
       "      <td>2024-02-28</td>\n",
       "      <td>share</td>\n",
       "      <td>website</td>\n",
       "      <td>178</td>\n",
       "      <td>2024-05-31</td>\n",
       "      <td>88</td>\n",
       "      <td>Home &amp; Kitchen</td>\n",
       "      <td>372.84</td>\n",
       "      <td>6</td>\n",
       "    </tr>\n",
       "    <tr>\n",
       "      <th>1</th>\n",
       "      <td>2</td>\n",
       "      <td>2024-04-27</td>\n",
       "      <td>view</td>\n",
       "      <td>social media</td>\n",
       "      <td>135</td>\n",
       "      <td>2024-03-18</td>\n",
       "      <td>84</td>\n",
       "      <td>Clothing</td>\n",
       "      <td>485.74</td>\n",
       "      <td>9</td>\n",
       "    </tr>\n",
       "    <tr>\n",
       "      <th>2</th>\n",
       "      <td>2</td>\n",
       "      <td>2024-04-27</td>\n",
       "      <td>view</td>\n",
       "      <td>social media</td>\n",
       "      <td>223</td>\n",
       "      <td>2024-07-04</td>\n",
       "      <td>99</td>\n",
       "      <td>Sports</td>\n",
       "      <td>482.55</td>\n",
       "      <td>6</td>\n",
       "    </tr>\n",
       "    <tr>\n",
       "      <th>3</th>\n",
       "      <td>2</td>\n",
       "      <td>2024-04-27</td>\n",
       "      <td>view</td>\n",
       "      <td>social media</td>\n",
       "      <td>886</td>\n",
       "      <td>2024-03-13</td>\n",
       "      <td>170</td>\n",
       "      <td>Home &amp; Kitchen</td>\n",
       "      <td>272.24</td>\n",
       "      <td>9</td>\n",
       "    </tr>\n",
       "    <tr>\n",
       "      <th>4</th>\n",
       "      <td>2</td>\n",
       "      <td>2024-04-27</td>\n",
       "      <td>view</td>\n",
       "      <td>social media</td>\n",
       "      <td>1183</td>\n",
       "      <td>2024-02-06</td>\n",
       "      <td>241</td>\n",
       "      <td>Books</td>\n",
       "      <td>13.68</td>\n",
       "      <td>7</td>\n",
       "    </tr>\n",
       "  </tbody>\n",
       "</table>\n",
       "</div>"
      ],
      "text/plain": [
       "   Customer ID Interaction Date Interaction Type Interaction Channel  \\\n",
       "0            1       2024-02-28            share             website   \n",
       "1            2       2024-04-27             view        social media   \n",
       "2            2       2024-04-27             view        social media   \n",
       "3            2       2024-04-27             view        social media   \n",
       "4            2       2024-04-27             view        social media   \n",
       "\n",
       "   Transaction ID Transaction Date  Product ID Product Category  Sales Amount  \\\n",
       "0             178       2024-05-31          88   Home & Kitchen        372.84   \n",
       "1             135       2024-03-18          84         Clothing        485.74   \n",
       "2             223       2024-07-04          99           Sports        482.55   \n",
       "3             886       2024-03-13         170   Home & Kitchen        272.24   \n",
       "4            1183       2024-02-06         241            Books         13.68   \n",
       "\n",
       "   Quantity  \n",
       "0         6  \n",
       "1         9  \n",
       "2         6  \n",
       "3         9  \n",
       "4         7  "
      ]
     },
     "execution_count": 103,
     "metadata": {},
     "output_type": "execute_result"
    }
   ],
   "source": [
    "cust_intr_purch = cust_inter_data.merge(sales_data, on = \"Customer ID\", how = \"inner\")\n",
    "cust_intr_purch.head()"
   ]
  },
  {
   "cell_type": "code",
   "execution_count": 105,
   "id": "718d7a82-9283-44d4-91bc-0d694fd0bd3e",
   "metadata": {},
   "outputs": [
    {
     "data": {
      "text/plain": [
       "656"
      ]
     },
     "execution_count": 105,
     "metadata": {},
     "output_type": "execute_result"
    }
   ],
   "source": [
    "total_cust_intr_purch = cust_intr_purch[\"Customer ID\"].nunique()\n",
    "total_cust_intr_purch"
   ]
  },
  {
   "cell_type": "code",
   "execution_count": 107,
   "id": "bed9c7ec-d70f-4d94-ba77-78ca5b4619e9",
   "metadata": {},
   "outputs": [
    {
     "name": "stdout",
     "output_type": "stream",
     "text": [
      "Purchase rate by targeted customers : 43.73 %\n",
      "Purchase rate by engaged customers : 65.6 %\n"
     ]
    }
   ],
   "source": [
    "purch_rate_targeted = (total_cust_intr_purch/1500)*100\n",
    "purch_rate_engaged = (total_cust_intr_purch/1000)*100\n",
    "\n",
    "print(\"Purchase rate by targeted customers :\", round(purch_rate_targeted,2),\"%\")\n",
    "print(\"Purchase rate by engaged customers :\", round(purch_rate_engaged,2),\"%\")\n"
   ]
  },
  {
   "cell_type": "markdown",
   "id": "df640e01-7ed5-4fee-813e-44cea531fa99",
   "metadata": {},
   "source": [
    "#### What was the overall impact on sales? Did we see a significant increase in sales during and after the campaign period?"
   ]
  },
  {
   "cell_type": "code",
   "execution_count": 112,
   "id": "d276956b-2260-4e3a-be3d-749ee3f1c28a",
   "metadata": {},
   "outputs": [
    {
     "data": {
      "text/html": [
       "<div>\n",
       "<style scoped>\n",
       "    .dataframe tbody tr th:only-of-type {\n",
       "        vertical-align: middle;\n",
       "    }\n",
       "\n",
       "    .dataframe tbody tr th {\n",
       "        vertical-align: top;\n",
       "    }\n",
       "\n",
       "    .dataframe thead th {\n",
       "        text-align: right;\n",
       "    }\n",
       "</style>\n",
       "<table border=\"1\" class=\"dataframe\">\n",
       "  <thead>\n",
       "    <tr style=\"text-align: right;\">\n",
       "      <th></th>\n",
       "      <th>Transaction ID</th>\n",
       "      <th>Transaction Date</th>\n",
       "      <th>Customer ID</th>\n",
       "      <th>Product ID</th>\n",
       "      <th>Product Category</th>\n",
       "      <th>Sales Amount</th>\n",
       "      <th>Quantity</th>\n",
       "    </tr>\n",
       "  </thead>\n",
       "  <tbody>\n",
       "    <tr>\n",
       "      <th>0</th>\n",
       "      <td>1</td>\n",
       "      <td>2024-01-19</td>\n",
       "      <td>213</td>\n",
       "      <td>345</td>\n",
       "      <td>Books</td>\n",
       "      <td>295.15</td>\n",
       "      <td>7</td>\n",
       "    </tr>\n",
       "    <tr>\n",
       "      <th>1</th>\n",
       "      <td>2</td>\n",
       "      <td>2024-06-11</td>\n",
       "      <td>59</td>\n",
       "      <td>134</td>\n",
       "      <td>Electronics</td>\n",
       "      <td>457.78</td>\n",
       "      <td>1</td>\n",
       "    </tr>\n",
       "    <tr>\n",
       "      <th>2</th>\n",
       "      <td>3</td>\n",
       "      <td>2024-01-10</td>\n",
       "      <td>178</td>\n",
       "      <td>89</td>\n",
       "      <td>Electronics</td>\n",
       "      <td>423.84</td>\n",
       "      <td>2</td>\n",
       "    </tr>\n",
       "    <tr>\n",
       "      <th>3</th>\n",
       "      <td>4</td>\n",
       "      <td>2024-05-30</td>\n",
       "      <td>359</td>\n",
       "      <td>423</td>\n",
       "      <td>Home &amp; Kitchen</td>\n",
       "      <td>497.52</td>\n",
       "      <td>1</td>\n",
       "    </tr>\n",
       "    <tr>\n",
       "      <th>4</th>\n",
       "      <td>5</td>\n",
       "      <td>2024-03-21</td>\n",
       "      <td>384</td>\n",
       "      <td>139</td>\n",
       "      <td>Clothing</td>\n",
       "      <td>164.21</td>\n",
       "      <td>7</td>\n",
       "    </tr>\n",
       "  </tbody>\n",
       "</table>\n",
       "</div>"
      ],
      "text/plain": [
       "   Transaction ID Transaction Date  Customer ID  Product ID Product Category  \\\n",
       "0               1       2024-01-19          213         345            Books   \n",
       "1               2       2024-06-11           59         134      Electronics   \n",
       "2               3       2024-01-10          178          89      Electronics   \n",
       "3               4       2024-05-30          359         423   Home & Kitchen   \n",
       "4               5       2024-03-21          384         139         Clothing   \n",
       "\n",
       "   Sales Amount  Quantity  \n",
       "0        295.15         7  \n",
       "1        457.78         1  \n",
       "2        423.84         2  \n",
       "3        497.52         1  \n",
       "4        164.21         7  "
      ]
     },
     "execution_count": 112,
     "metadata": {},
     "output_type": "execute_result"
    }
   ],
   "source": [
    "sales_data.head()"
   ]
  },
  {
   "cell_type": "code",
   "execution_count": 114,
   "id": "17dceeab-cb44-45a4-b055-d538b4aec9be",
   "metadata": {},
   "outputs": [
    {
     "data": {
      "text/plain": [
       "Timestamp('2024-01-01 00:00:00')"
      ]
     },
     "execution_count": 114,
     "metadata": {},
     "output_type": "execute_result"
    }
   ],
   "source": [
    "sales_data[\"Transaction Date\"].min()"
   ]
  },
  {
   "cell_type": "code",
   "execution_count": 116,
   "id": "d6124d09-54af-4aa3-90ad-87c51a683f74",
   "metadata": {},
   "outputs": [
    {
     "data": {
      "text/plain": [
       "Timestamp('2024-07-06 00:00:00')"
      ]
     },
     "execution_count": 116,
     "metadata": {},
     "output_type": "execute_result"
    }
   ],
   "source": [
    "sales_data[\"Transaction Date\"].max()"
   ]
  },
  {
   "cell_type": "code",
   "execution_count": 118,
   "id": "b2b12a67-879a-4d9e-b46c-69448a5d092a",
   "metadata": {},
   "outputs": [
    {
     "data": {
      "text/html": [
       "<div>\n",
       "<style scoped>\n",
       "    .dataframe tbody tr th:only-of-type {\n",
       "        vertical-align: middle;\n",
       "    }\n",
       "\n",
       "    .dataframe tbody tr th {\n",
       "        vertical-align: top;\n",
       "    }\n",
       "\n",
       "    .dataframe thead th {\n",
       "        text-align: right;\n",
       "    }\n",
       "</style>\n",
       "<table border=\"1\" class=\"dataframe\">\n",
       "  <thead>\n",
       "    <tr style=\"text-align: right;\">\n",
       "      <th></th>\n",
       "      <th>Transaction ID</th>\n",
       "      <th>Transaction Date</th>\n",
       "      <th>Customer ID</th>\n",
       "      <th>Product ID</th>\n",
       "      <th>Product Category</th>\n",
       "      <th>Sales Amount</th>\n",
       "      <th>Quantity</th>\n",
       "      <th>Total Sales</th>\n",
       "    </tr>\n",
       "  </thead>\n",
       "  <tbody>\n",
       "    <tr>\n",
       "      <th>0</th>\n",
       "      <td>1</td>\n",
       "      <td>2024-01-19</td>\n",
       "      <td>213</td>\n",
       "      <td>345</td>\n",
       "      <td>Books</td>\n",
       "      <td>295.15</td>\n",
       "      <td>7</td>\n",
       "      <td>2066.05</td>\n",
       "    </tr>\n",
       "    <tr>\n",
       "      <th>1</th>\n",
       "      <td>2</td>\n",
       "      <td>2024-06-11</td>\n",
       "      <td>59</td>\n",
       "      <td>134</td>\n",
       "      <td>Electronics</td>\n",
       "      <td>457.78</td>\n",
       "      <td>1</td>\n",
       "      <td>457.78</td>\n",
       "    </tr>\n",
       "    <tr>\n",
       "      <th>2</th>\n",
       "      <td>3</td>\n",
       "      <td>2024-01-10</td>\n",
       "      <td>178</td>\n",
       "      <td>89</td>\n",
       "      <td>Electronics</td>\n",
       "      <td>423.84</td>\n",
       "      <td>2</td>\n",
       "      <td>847.68</td>\n",
       "    </tr>\n",
       "    <tr>\n",
       "      <th>3</th>\n",
       "      <td>4</td>\n",
       "      <td>2024-05-30</td>\n",
       "      <td>359</td>\n",
       "      <td>423</td>\n",
       "      <td>Home &amp; Kitchen</td>\n",
       "      <td>497.52</td>\n",
       "      <td>1</td>\n",
       "      <td>497.52</td>\n",
       "    </tr>\n",
       "    <tr>\n",
       "      <th>4</th>\n",
       "      <td>5</td>\n",
       "      <td>2024-03-21</td>\n",
       "      <td>384</td>\n",
       "      <td>139</td>\n",
       "      <td>Clothing</td>\n",
       "      <td>164.21</td>\n",
       "      <td>7</td>\n",
       "      <td>1149.47</td>\n",
       "    </tr>\n",
       "  </tbody>\n",
       "</table>\n",
       "</div>"
      ],
      "text/plain": [
       "   Transaction ID Transaction Date  Customer ID  Product ID Product Category  \\\n",
       "0               1       2024-01-19          213         345            Books   \n",
       "1               2       2024-06-11           59         134      Electronics   \n",
       "2               3       2024-01-10          178          89      Electronics   \n",
       "3               4       2024-05-30          359         423   Home & Kitchen   \n",
       "4               5       2024-03-21          384         139         Clothing   \n",
       "\n",
       "   Sales Amount  Quantity  Total Sales  \n",
       "0        295.15         7      2066.05  \n",
       "1        457.78         1       457.78  \n",
       "2        423.84         2       847.68  \n",
       "3        497.52         1       497.52  \n",
       "4        164.21         7      1149.47  "
      ]
     },
     "execution_count": 118,
     "metadata": {},
     "output_type": "execute_result"
    }
   ],
   "source": [
    "sales_data[\"Total Sales\"] = sales_data[\"Sales Amount\"]*sales_data[\"Quantity\"]\n",
    "sales_data.head()"
   ]
  },
  {
   "cell_type": "code",
   "execution_count": 122,
   "id": "9f2731ad-3412-4b0e-84fe-6b56e38d7757",
   "metadata": {},
   "outputs": [
    {
     "data": {
      "text/html": [
       "<div>\n",
       "<style scoped>\n",
       "    .dataframe tbody tr th:only-of-type {\n",
       "        vertical-align: middle;\n",
       "    }\n",
       "\n",
       "    .dataframe tbody tr th {\n",
       "        vertical-align: top;\n",
       "    }\n",
       "\n",
       "    .dataframe thead th {\n",
       "        text-align: right;\n",
       "    }\n",
       "</style>\n",
       "<table border=\"1\" class=\"dataframe\">\n",
       "  <thead>\n",
       "    <tr style=\"text-align: right;\">\n",
       "      <th></th>\n",
       "      <th>Transaction ID</th>\n",
       "      <th>Transaction Date</th>\n",
       "      <th>Customer ID</th>\n",
       "      <th>Product ID</th>\n",
       "      <th>Product Category</th>\n",
       "      <th>Sales Amount</th>\n",
       "      <th>Quantity</th>\n",
       "      <th>Total Sales</th>\n",
       "      <th>Month</th>\n",
       "      <th>Day</th>\n",
       "    </tr>\n",
       "  </thead>\n",
       "  <tbody>\n",
       "    <tr>\n",
       "      <th>0</th>\n",
       "      <td>1</td>\n",
       "      <td>2024-01-19</td>\n",
       "      <td>213</td>\n",
       "      <td>345</td>\n",
       "      <td>Books</td>\n",
       "      <td>295.15</td>\n",
       "      <td>7</td>\n",
       "      <td>2066.05</td>\n",
       "      <td>1</td>\n",
       "      <td>19</td>\n",
       "    </tr>\n",
       "    <tr>\n",
       "      <th>1</th>\n",
       "      <td>2</td>\n",
       "      <td>2024-06-11</td>\n",
       "      <td>59</td>\n",
       "      <td>134</td>\n",
       "      <td>Electronics</td>\n",
       "      <td>457.78</td>\n",
       "      <td>1</td>\n",
       "      <td>457.78</td>\n",
       "      <td>6</td>\n",
       "      <td>11</td>\n",
       "    </tr>\n",
       "    <tr>\n",
       "      <th>2</th>\n",
       "      <td>3</td>\n",
       "      <td>2024-01-10</td>\n",
       "      <td>178</td>\n",
       "      <td>89</td>\n",
       "      <td>Electronics</td>\n",
       "      <td>423.84</td>\n",
       "      <td>2</td>\n",
       "      <td>847.68</td>\n",
       "      <td>1</td>\n",
       "      <td>10</td>\n",
       "    </tr>\n",
       "    <tr>\n",
       "      <th>3</th>\n",
       "      <td>4</td>\n",
       "      <td>2024-05-30</td>\n",
       "      <td>359</td>\n",
       "      <td>423</td>\n",
       "      <td>Home &amp; Kitchen</td>\n",
       "      <td>497.52</td>\n",
       "      <td>1</td>\n",
       "      <td>497.52</td>\n",
       "      <td>5</td>\n",
       "      <td>30</td>\n",
       "    </tr>\n",
       "    <tr>\n",
       "      <th>4</th>\n",
       "      <td>5</td>\n",
       "      <td>2024-03-21</td>\n",
       "      <td>384</td>\n",
       "      <td>139</td>\n",
       "      <td>Clothing</td>\n",
       "      <td>164.21</td>\n",
       "      <td>7</td>\n",
       "      <td>1149.47</td>\n",
       "      <td>3</td>\n",
       "      <td>21</td>\n",
       "    </tr>\n",
       "  </tbody>\n",
       "</table>\n",
       "</div>"
      ],
      "text/plain": [
       "   Transaction ID Transaction Date  Customer ID  Product ID Product Category  \\\n",
       "0               1       2024-01-19          213         345            Books   \n",
       "1               2       2024-06-11           59         134      Electronics   \n",
       "2               3       2024-01-10          178          89      Electronics   \n",
       "3               4       2024-05-30          359         423   Home & Kitchen   \n",
       "4               5       2024-03-21          384         139         Clothing   \n",
       "\n",
       "   Sales Amount  Quantity  Total Sales  Month  Day  \n",
       "0        295.15         7      2066.05      1   19  \n",
       "1        457.78         1       457.78      6   11  \n",
       "2        423.84         2       847.68      1   10  \n",
       "3        497.52         1       497.52      5   30  \n",
       "4        164.21         7      1149.47      3   21  "
      ]
     },
     "execution_count": 122,
     "metadata": {},
     "output_type": "execute_result"
    }
   ],
   "source": [
    "sales_data[\"Month\"] = sales_data[\"Transaction Date\"].dt.month\n",
    "sales_data[\"Day\"] = sales_data[\"Transaction Date\"].dt.day\n",
    "sales_data.head()"
   ]
  },
  {
   "cell_type": "code",
   "execution_count": 132,
   "id": "99b90e3d-1d56-43ce-b1b1-2c31b9b5fc1d",
   "metadata": {},
   "outputs": [
    {
     "data": {
      "text/plain": [
       "0       2066.05\n",
       "2        847.68\n",
       "4       1149.47\n",
       "5       2875.20\n",
       "6        977.55\n",
       "         ...   \n",
       "1362     378.48\n",
       "1364     440.93\n",
       "1365    2882.76\n",
       "1366     286.68\n",
       "1369    1762.14\n",
       "Name: Total Sales, Length: 918, dtype: float64"
      ]
     },
     "execution_count": 132,
     "metadata": {},
     "output_type": "execute_result"
    }
   ],
   "source": [
    "sales_campaign = sales_data[sales_data[\"Month\"]<5][\"Total Sales\"]\n",
    "sales_campaign"
   ]
  },
  {
   "cell_type": "code",
   "execution_count": 134,
   "id": "adfeb6c2-4eb4-47d7-92bc-618b1a4f2a21",
   "metadata": {},
   "outputs": [
    {
     "data": {
      "text/plain": [
       "1        457.78\n",
       "3        497.52\n",
       "9       1014.58\n",
       "10       659.16\n",
       "15      4341.80\n",
       "         ...   \n",
       "1360    1022.36\n",
       "1361    3395.34\n",
       "1363    2393.30\n",
       "1367     481.28\n",
       "1368    1094.80\n",
       "Name: Total Sales, Length: 452, dtype: float64"
      ]
     },
     "execution_count": 134,
     "metadata": {},
     "output_type": "execute_result"
    }
   ],
   "source": [
    "sales_after_camp = sales_data[sales_data[\"Month\"]>4][\"Total Sales\"]\n",
    "sales_after_camp"
   ]
  },
  {
   "cell_type": "code",
   "execution_count": 142,
   "id": "1a31017e-967e-42e3-b72a-c4f70bce1dca",
   "metadata": {},
   "outputs": [
    {
     "name": "stdout",
     "output_type": "stream",
     "text": [
      "Total sales during campaign: 1308551.4799999981\n"
     ]
    }
   ],
   "source": [
    "total_Sales_campaign = sum(sales_campaign)\n",
    "print(\"Total sales during campaign:\", total_Sales_campaign)"
   ]
  },
  {
   "cell_type": "code",
   "execution_count": 144,
   "id": "deb67978-b78a-46f6-a619-896fa2e9c645",
   "metadata": {},
   "outputs": [
    {
     "name": "stdout",
     "output_type": "stream",
     "text": [
      "Total sales during campaign: 637323.8199999998\n"
     ]
    }
   ],
   "source": [
    "total_sales_after_camp = sum(sales_after_camp)\n",
    "print(\"Total sales during campaign:\", total_sales_after_camp)"
   ]
  },
  {
   "cell_type": "markdown",
   "id": "7339cd32-6f52-4b59-a0eb-275fad43392f",
   "metadata": {},
   "source": [
    "### Increase/decrease rate of sales"
   ]
  },
  {
   "cell_type": "code",
   "execution_count": 147,
   "id": "479bef74-8730-4741-a959-131d6c6d1d2c",
   "metadata": {},
   "outputs": [
    {
     "name": "stdout",
     "output_type": "stream",
     "text": [
      "Sales increase rate : 105.32 %\n"
     ]
    }
   ],
   "source": [
    "sales_incr_rate = ((total_Sales_campaign - total_sales_after_camp) / total_sales_after_camp)*100\n",
    "print(\"Sales increase rate :\", round(sales_incr_rate,2),\"%\")"
   ]
  },
  {
   "cell_type": "markdown",
   "id": "42db96de-6b00-48aa-8032-8aa63fa08af9",
   "metadata": {},
   "source": [
    "#### How does the ROI of this campaign compare to previous ones? Was our spending justified by the results?"
   ]
  },
  {
   "cell_type": "code",
   "execution_count": 150,
   "id": "a0cf2f95-3272-44bb-ae6c-42376bb7c9a0",
   "metadata": {},
   "outputs": [
    {
     "name": "stdout",
     "output_type": "stream",
     "text": [
      "ROI of recent campaign : 2517.1\n"
     ]
    }
   ],
   "source": [
    "# ROI of recent campaign\n",
    "roi_recent = ((total_Sales_campaign - 50000)/50000)*100\n",
    "print(\"ROI of recent campaign :\", round(roi_recent,2))"
   ]
  },
  {
   "cell_type": "code",
   "execution_count": 152,
   "id": "c6e9ad0c-8be7-40c0-89e6-95ffd3b0c666",
   "metadata": {},
   "outputs": [
    {
     "name": "stdout",
     "output_type": "stream",
     "text": [
      "ROI of previous campaign : 370.19\n"
     ]
    }
   ],
   "source": [
    "# ROI of previous campaign\n",
    "roi_previous = ((268009 - 57000)/57000)*100\n",
    "print(\"ROI of previous campaign :\", round(roi_previous,2))"
   ]
  },
  {
   "cell_type": "code",
   "execution_count": 158,
   "id": "88ec6ce5-4c96-4626-b4de-d047a5fe6876",
   "metadata": {},
   "outputs": [
    {
     "name": "stdout",
     "output_type": "stream",
     "text": [
      "ROI growth rate : 579.95 %\n"
     ]
    }
   ],
   "source": [
    "roi_growth = ((roi_recent - roi_previous) / roi_previous)*100\n",
    "print(\"ROI growth rate :\", round(roi_growth,2), \"%\")"
   ]
  },
  {
   "cell_type": "markdown",
   "id": "de87599e-5434-40db-8e10-5bbe0f9acfc1",
   "metadata": {},
   "source": [
    "#### Which customer demographics responded most positively or negatively to the campaign? Are there specific segments we should focus on or avoid in the future?"
   ]
  },
  {
   "cell_type": "code",
   "execution_count": 186,
   "id": "9c1d3b4c-a3b6-4867-84c6-87e393cfcddd",
   "metadata": {},
   "outputs": [
    {
     "data": {
      "text/html": [
       "<div>\n",
       "<style scoped>\n",
       "    .dataframe tbody tr th:only-of-type {\n",
       "        vertical-align: middle;\n",
       "    }\n",
       "\n",
       "    .dataframe tbody tr th {\n",
       "        vertical-align: top;\n",
       "    }\n",
       "\n",
       "    .dataframe thead th {\n",
       "        text-align: right;\n",
       "    }\n",
       "</style>\n",
       "<table border=\"1\" class=\"dataframe\">\n",
       "  <thead>\n",
       "    <tr style=\"text-align: right;\">\n",
       "      <th></th>\n",
       "      <th>Customer ID</th>\n",
       "      <th>Age</th>\n",
       "      <th>Gender</th>\n",
       "      <th>Location</th>\n",
       "      <th>Income Level</th>\n",
       "      <th>Interaction Date</th>\n",
       "      <th>Interaction Type</th>\n",
       "      <th>Interaction Channel</th>\n",
       "    </tr>\n",
       "  </thead>\n",
       "  <tbody>\n",
       "    <tr>\n",
       "      <th>0</th>\n",
       "      <td>1</td>\n",
       "      <td>65</td>\n",
       "      <td>Male</td>\n",
       "      <td>Martinezmouth</td>\n",
       "      <td>61083</td>\n",
       "      <td>2024-02-28</td>\n",
       "      <td>share</td>\n",
       "      <td>website</td>\n",
       "    </tr>\n",
       "    <tr>\n",
       "      <th>1</th>\n",
       "      <td>2</td>\n",
       "      <td>43</td>\n",
       "      <td>Non-binary</td>\n",
       "      <td>South Anne</td>\n",
       "      <td>90419</td>\n",
       "      <td>2024-04-27</td>\n",
       "      <td>view</td>\n",
       "      <td>social media</td>\n",
       "    </tr>\n",
       "    <tr>\n",
       "      <th>2</th>\n",
       "      <td>3</td>\n",
       "      <td>58</td>\n",
       "      <td>Non-binary</td>\n",
       "      <td>West Darrellport</td>\n",
       "      <td>38260</td>\n",
       "      <td>2024-02-26</td>\n",
       "      <td>share</td>\n",
       "      <td>email</td>\n",
       "    </tr>\n",
       "    <tr>\n",
       "      <th>3</th>\n",
       "      <td>4</td>\n",
       "      <td>53</td>\n",
       "      <td>Non-binary</td>\n",
       "      <td>Stevenshire</td>\n",
       "      <td>34649</td>\n",
       "      <td>2024-02-13</td>\n",
       "      <td>click</td>\n",
       "      <td>email</td>\n",
       "    </tr>\n",
       "    <tr>\n",
       "      <th>4</th>\n",
       "      <td>5</td>\n",
       "      <td>69</td>\n",
       "      <td>Female</td>\n",
       "      <td>South Kellychester</td>\n",
       "      <td>70420</td>\n",
       "      <td>2024-04-01</td>\n",
       "      <td>share</td>\n",
       "      <td>social media</td>\n",
       "    </tr>\n",
       "  </tbody>\n",
       "</table>\n",
       "</div>"
      ],
      "text/plain": [
       "   Customer ID  Age      Gender            Location  Income Level  \\\n",
       "0            1   65        Male       Martinezmouth         61083   \n",
       "1            2   43  Non-binary          South Anne         90419   \n",
       "2            3   58  Non-binary    West Darrellport         38260   \n",
       "3            4   53  Non-binary         Stevenshire         34649   \n",
       "4            5   69      Female  South Kellychester         70420   \n",
       "\n",
       "  Interaction Date Interaction Type Interaction Channel  \n",
       "0       2024-02-28            share             website  \n",
       "1       2024-04-27             view        social media  \n",
       "2       2024-02-26            share               email  \n",
       "3       2024-02-13            click               email  \n",
       "4       2024-04-01            share        social media  "
      ]
     },
     "execution_count": 186,
     "metadata": {},
     "output_type": "execute_result"
    }
   ],
   "source": [
    "# customer engagement rates by segments\n",
    "interacted_cust = cust_demo_data.merge(cust_inter_data,on = \"Customer ID\",how = \"inner\")\n",
    "interacted_cust.head()"
   ]
  },
  {
   "cell_type": "code",
   "execution_count": 205,
   "id": "9db43a0d-0291-472d-b1ff-5eb285e64aac",
   "metadata": {},
   "outputs": [
    {
     "data": {
      "text/html": [
       "<div>\n",
       "<style scoped>\n",
       "    .dataframe tbody tr th:only-of-type {\n",
       "        vertical-align: middle;\n",
       "    }\n",
       "\n",
       "    .dataframe tbody tr th {\n",
       "        vertical-align: top;\n",
       "    }\n",
       "\n",
       "    .dataframe thead th {\n",
       "        text-align: right;\n",
       "    }\n",
       "</style>\n",
       "<table border=\"1\" class=\"dataframe\">\n",
       "  <thead>\n",
       "    <tr style=\"text-align: right;\">\n",
       "      <th></th>\n",
       "      <th>Customer ID</th>\n",
       "      <th>Age</th>\n",
       "      <th>Gender</th>\n",
       "      <th>Location</th>\n",
       "      <th>Income Level</th>\n",
       "      <th>Interaction Date</th>\n",
       "      <th>Interaction Type</th>\n",
       "      <th>Interaction Channel</th>\n",
       "    </tr>\n",
       "  </thead>\n",
       "  <tbody>\n",
       "    <tr>\n",
       "      <th>51</th>\n",
       "      <td>52</td>\n",
       "      <td>20</td>\n",
       "      <td>Other</td>\n",
       "      <td>Dianaton</td>\n",
       "      <td>19176</td>\n",
       "      <td>2024-05-04</td>\n",
       "      <td>view</td>\n",
       "      <td>social media</td>\n",
       "    </tr>\n",
       "    <tr>\n",
       "      <th>64</th>\n",
       "      <td>65</td>\n",
       "      <td>21</td>\n",
       "      <td>Male</td>\n",
       "      <td>Lukemouth</td>\n",
       "      <td>26780</td>\n",
       "      <td>2024-01-18</td>\n",
       "      <td>click</td>\n",
       "      <td>social media</td>\n",
       "    </tr>\n",
       "    <tr>\n",
       "      <th>92</th>\n",
       "      <td>93</td>\n",
       "      <td>20</td>\n",
       "      <td>Other</td>\n",
       "      <td>Port Marvin</td>\n",
       "      <td>23532</td>\n",
       "      <td>2024-03-11</td>\n",
       "      <td>view</td>\n",
       "      <td>social media</td>\n",
       "    </tr>\n",
       "    <tr>\n",
       "      <th>114</th>\n",
       "      <td>115</td>\n",
       "      <td>20</td>\n",
       "      <td>Female</td>\n",
       "      <td>Lake Robertfurt</td>\n",
       "      <td>14709</td>\n",
       "      <td>2024-02-06</td>\n",
       "      <td>share</td>\n",
       "      <td>website</td>\n",
       "    </tr>\n",
       "    <tr>\n",
       "      <th>138</th>\n",
       "      <td>139</td>\n",
       "      <td>23</td>\n",
       "      <td>Non-binary</td>\n",
       "      <td>Cherylburgh</td>\n",
       "      <td>19490</td>\n",
       "      <td>2024-04-05</td>\n",
       "      <td>view</td>\n",
       "      <td>email</td>\n",
       "    </tr>\n",
       "  </tbody>\n",
       "</table>\n",
       "</div>"
      ],
      "text/plain": [
       "     Customer ID  Age      Gender         Location  Income Level  \\\n",
       "51            52   20       Other         Dianaton         19176   \n",
       "64            65   21        Male        Lukemouth         26780   \n",
       "92            93   20       Other      Port Marvin         23532   \n",
       "114          115   20      Female  Lake Robertfurt         14709   \n",
       "138          139   23  Non-binary      Cherylburgh         19490   \n",
       "\n",
       "    Interaction Date Interaction Type Interaction Channel  \n",
       "51        2024-05-04             view        social media  \n",
       "64        2024-01-18            click        social media  \n",
       "92        2024-03-11             view        social media  \n",
       "114       2024-02-06            share             website  \n",
       "138       2024-04-05             view               email  "
      ]
     },
     "execution_count": 205,
     "metadata": {},
     "output_type": "execute_result"
    }
   ],
   "source": [
    "young_low_income_intr = interacted_cust[(interacted_cust[\"Age\"] > 17) & (interacted_cust[\"Age\"] < 25) &  (interacted_cust[\"Income Level\"] < 30000)]                    \n",
    "young_low_income_intr.head()"
   ]
  },
  {
   "cell_type": "code",
   "execution_count": 207,
   "id": "48991207-6c1c-476a-902e-aaab57c942b1",
   "metadata": {},
   "outputs": [
    {
     "data": {
      "text/html": [
       "<div>\n",
       "<style scoped>\n",
       "    .dataframe tbody tr th:only-of-type {\n",
       "        vertical-align: middle;\n",
       "    }\n",
       "\n",
       "    .dataframe tbody tr th {\n",
       "        vertical-align: top;\n",
       "    }\n",
       "\n",
       "    .dataframe thead th {\n",
       "        text-align: right;\n",
       "    }\n",
       "</style>\n",
       "<table border=\"1\" class=\"dataframe\">\n",
       "  <thead>\n",
       "    <tr style=\"text-align: right;\">\n",
       "      <th></th>\n",
       "      <th>Customer ID</th>\n",
       "      <th>Age</th>\n",
       "      <th>Gender</th>\n",
       "      <th>Location</th>\n",
       "      <th>Income Level</th>\n",
       "      <th>Interaction Date</th>\n",
       "      <th>Interaction Type</th>\n",
       "      <th>Interaction Channel</th>\n",
       "    </tr>\n",
       "  </thead>\n",
       "  <tbody>\n",
       "    <tr>\n",
       "      <th>8</th>\n",
       "      <td>9</td>\n",
       "      <td>24</td>\n",
       "      <td>Non-binary</td>\n",
       "      <td>East Melanie</td>\n",
       "      <td>43329</td>\n",
       "      <td>2024-04-08</td>\n",
       "      <td>click</td>\n",
       "      <td>email</td>\n",
       "    </tr>\n",
       "    <tr>\n",
       "      <th>12</th>\n",
       "      <td>13</td>\n",
       "      <td>23</td>\n",
       "      <td>Non-binary</td>\n",
       "      <td>Port Vincent</td>\n",
       "      <td>46646</td>\n",
       "      <td>2024-02-01</td>\n",
       "      <td>share</td>\n",
       "      <td>social media</td>\n",
       "    </tr>\n",
       "    <tr>\n",
       "      <th>20</th>\n",
       "      <td>21</td>\n",
       "      <td>19</td>\n",
       "      <td>Non-binary</td>\n",
       "      <td>Paceview</td>\n",
       "      <td>53522</td>\n",
       "      <td>2024-04-27</td>\n",
       "      <td>share</td>\n",
       "      <td>website</td>\n",
       "    </tr>\n",
       "    <tr>\n",
       "      <th>72</th>\n",
       "      <td>73</td>\n",
       "      <td>22</td>\n",
       "      <td>Non-binary</td>\n",
       "      <td>Sherriton</td>\n",
       "      <td>55401</td>\n",
       "      <td>2024-02-05</td>\n",
       "      <td>click</td>\n",
       "      <td>social media</td>\n",
       "    </tr>\n",
       "    <tr>\n",
       "      <th>82</th>\n",
       "      <td>83</td>\n",
       "      <td>19</td>\n",
       "      <td>Female</td>\n",
       "      <td>Gibbsstad</td>\n",
       "      <td>44655</td>\n",
       "      <td>2024-03-02</td>\n",
       "      <td>click</td>\n",
       "      <td>email</td>\n",
       "    </tr>\n",
       "  </tbody>\n",
       "</table>\n",
       "</div>"
      ],
      "text/plain": [
       "    Customer ID  Age      Gender      Location  Income Level Interaction Date  \\\n",
       "8             9   24  Non-binary  East Melanie         43329       2024-04-08   \n",
       "12           13   23  Non-binary  Port Vincent         46646       2024-02-01   \n",
       "20           21   19  Non-binary      Paceview         53522       2024-04-27   \n",
       "72           73   22  Non-binary     Sherriton         55401       2024-02-05   \n",
       "82           83   19      Female     Gibbsstad         44655       2024-03-02   \n",
       "\n",
       "   Interaction Type Interaction Channel  \n",
       "8             click               email  \n",
       "12            share        social media  \n",
       "20            share             website  \n",
       "72            click        social media  \n",
       "82            click               email  "
      ]
     },
     "execution_count": 207,
     "metadata": {},
     "output_type": "execute_result"
    }
   ],
   "source": [
    "young_medium_income_intr = interacted_cust[(interacted_cust[\"Age\"] > 17) & (interacted_cust[\"Age\"] < 25) & (interacted_cust[\"Income Level\"] > 30000) & (interacted_cust[\"Income Level\"] < 75000)]\n",
    "young_medium_income_intr.head()"
   ]
  },
  {
   "cell_type": "code",
   "execution_count": 209,
   "id": "20dced1c-6e68-45d7-8643-43a5e72baeb4",
   "metadata": {},
   "outputs": [
    {
     "data": {
      "text/html": [
       "<div>\n",
       "<style scoped>\n",
       "    .dataframe tbody tr th:only-of-type {\n",
       "        vertical-align: middle;\n",
       "    }\n",
       "\n",
       "    .dataframe tbody tr th {\n",
       "        vertical-align: top;\n",
       "    }\n",
       "\n",
       "    .dataframe thead th {\n",
       "        text-align: right;\n",
       "    }\n",
       "</style>\n",
       "<table border=\"1\" class=\"dataframe\">\n",
       "  <thead>\n",
       "    <tr style=\"text-align: right;\">\n",
       "      <th></th>\n",
       "      <th>Customer ID</th>\n",
       "      <th>Age</th>\n",
       "      <th>Gender</th>\n",
       "      <th>Location</th>\n",
       "      <th>Income Level</th>\n",
       "      <th>Interaction Date</th>\n",
       "      <th>Interaction Type</th>\n",
       "      <th>Interaction Channel</th>\n",
       "    </tr>\n",
       "  </thead>\n",
       "  <tbody>\n",
       "    <tr>\n",
       "      <th>1</th>\n",
       "      <td>2</td>\n",
       "      <td>43</td>\n",
       "      <td>Non-binary</td>\n",
       "      <td>South Anne</td>\n",
       "      <td>90419</td>\n",
       "      <td>2024-04-27</td>\n",
       "      <td>view</td>\n",
       "      <td>social media</td>\n",
       "    </tr>\n",
       "    <tr>\n",
       "      <th>6</th>\n",
       "      <td>7</td>\n",
       "      <td>43</td>\n",
       "      <td>Male</td>\n",
       "      <td>Lake Joseph</td>\n",
       "      <td>89845</td>\n",
       "      <td>2024-03-03</td>\n",
       "      <td>click</td>\n",
       "      <td>website</td>\n",
       "    </tr>\n",
       "    <tr>\n",
       "      <th>9</th>\n",
       "      <td>10</td>\n",
       "      <td>37</td>\n",
       "      <td>Non-binary</td>\n",
       "      <td>Port Andrew</td>\n",
       "      <td>81745</td>\n",
       "      <td>2024-05-01</td>\n",
       "      <td>share</td>\n",
       "      <td>email</td>\n",
       "    </tr>\n",
       "    <tr>\n",
       "      <th>16</th>\n",
       "      <td>17</td>\n",
       "      <td>66</td>\n",
       "      <td>Other</td>\n",
       "      <td>East Jessica</td>\n",
       "      <td>95692</td>\n",
       "      <td>2024-04-16</td>\n",
       "      <td>click</td>\n",
       "      <td>email</td>\n",
       "    </tr>\n",
       "    <tr>\n",
       "      <th>19</th>\n",
       "      <td>20</td>\n",
       "      <td>41</td>\n",
       "      <td>Male</td>\n",
       "      <td>North David</td>\n",
       "      <td>77251</td>\n",
       "      <td>2024-03-11</td>\n",
       "      <td>click</td>\n",
       "      <td>website</td>\n",
       "    </tr>\n",
       "  </tbody>\n",
       "</table>\n",
       "</div>"
      ],
      "text/plain": [
       "    Customer ID  Age      Gender      Location  Income Level Interaction Date  \\\n",
       "1             2   43  Non-binary    South Anne         90419       2024-04-27   \n",
       "6             7   43        Male   Lake Joseph         89845       2024-03-03   \n",
       "9            10   37  Non-binary   Port Andrew         81745       2024-05-01   \n",
       "16           17   66       Other  East Jessica         95692       2024-04-16   \n",
       "19           20   41        Male   North David         77251       2024-03-11   \n",
       "\n",
       "   Interaction Type Interaction Channel  \n",
       "1              view        social media  \n",
       "6             click             website  \n",
       "9             share               email  \n",
       "16            click               email  \n",
       "19            click             website  "
      ]
     },
     "execution_count": 209,
     "metadata": {},
     "output_type": "execute_result"
    }
   ],
   "source": [
    "middle_high_income_intr = interacted_cust[(interacted_cust[\"Age\"] > 24) & (interacted_cust[\"Income Level\"] > 75000)]\n",
    "middle_high_income_intr.head()"
   ]
  },
  {
   "cell_type": "code",
   "execution_count": 211,
   "id": "e20243ef-4922-499e-98b0-60d3503b23af",
   "metadata": {},
   "outputs": [
    {
     "data": {
      "text/plain": [
       "2.9"
      ]
     },
     "execution_count": 211,
     "metadata": {},
     "output_type": "execute_result"
    }
   ],
   "source": [
    "young_low_income_intr_cust = young_low_income_intr[\"Customer ID\"].nunique()\n",
    "egr_low_income_intr_cust = (young_low_income_intr_cust / 1000)*100\n",
    "round(egr_low_income_intr_cust,2)"
   ]
  },
  {
   "cell_type": "code",
   "execution_count": 213,
   "id": "d0227c25-f1a9-4619-adea-b664efeb769c",
   "metadata": {},
   "outputs": [
    {
     "data": {
      "text/plain": [
       "7.7"
      ]
     },
     "execution_count": 213,
     "metadata": {},
     "output_type": "execute_result"
    }
   ],
   "source": [
    "young_medium_income_intr = young_medium_income_intr[\"Customer ID\"].nunique()\n",
    "egr_medium_income_intr = (young_medium_income_intr / 1000)*100\n",
    "round(egr_medium_income_intr,2)"
   ]
  },
  {
   "cell_type": "code",
   "execution_count": 215,
   "id": "af5f7c97-6485-4ea6-8293-23b273639fd4",
   "metadata": {},
   "outputs": [
    {
     "data": {
      "text/plain": [
       "22.8"
      ]
     },
     "execution_count": 215,
     "metadata": {},
     "output_type": "execute_result"
    }
   ],
   "source": [
    "middle_high_income_intr = middle_high_income_intr[\"Customer ID\"].nunique()\n",
    "egr_middle_high_income_intr = (middle_high_income_intr / 1000)*100\n",
    "round(egr_middle_high_income_intr,2)"
   ]
  },
  {
   "cell_type": "markdown",
   "id": "5327b199-97c5-4a05-b0c4-d93c47b48049",
   "metadata": {},
   "source": [
    "#### Customer coversion rates by segments"
   ]
  },
  {
   "cell_type": "code",
   "execution_count": 217,
   "id": "2257a151-74ee-4284-b9f2-2025f8a92bec",
   "metadata": {},
   "outputs": [
    {
     "data": {
      "text/html": [
       "<div>\n",
       "<style scoped>\n",
       "    .dataframe tbody tr th:only-of-type {\n",
       "        vertical-align: middle;\n",
       "    }\n",
       "\n",
       "    .dataframe tbody tr th {\n",
       "        vertical-align: top;\n",
       "    }\n",
       "\n",
       "    .dataframe thead th {\n",
       "        text-align: right;\n",
       "    }\n",
       "</style>\n",
       "<table border=\"1\" class=\"dataframe\">\n",
       "  <thead>\n",
       "    <tr style=\"text-align: right;\">\n",
       "      <th></th>\n",
       "      <th>Customer ID</th>\n",
       "      <th>Age</th>\n",
       "      <th>Gender</th>\n",
       "      <th>Location</th>\n",
       "      <th>Income Level</th>\n",
       "      <th>Interaction Date</th>\n",
       "      <th>Interaction Type</th>\n",
       "      <th>Interaction Channel</th>\n",
       "      <th>Transaction ID</th>\n",
       "      <th>Transaction Date</th>\n",
       "      <th>Product ID</th>\n",
       "      <th>Product Category</th>\n",
       "      <th>Sales Amount</th>\n",
       "      <th>Quantity</th>\n",
       "    </tr>\n",
       "  </thead>\n",
       "  <tbody>\n",
       "    <tr>\n",
       "      <th>0</th>\n",
       "      <td>1</td>\n",
       "      <td>65</td>\n",
       "      <td>Male</td>\n",
       "      <td>Martinezmouth</td>\n",
       "      <td>61083</td>\n",
       "      <td>2024-02-28</td>\n",
       "      <td>share</td>\n",
       "      <td>website</td>\n",
       "      <td>178</td>\n",
       "      <td>2024-05-31</td>\n",
       "      <td>88</td>\n",
       "      <td>Home &amp; Kitchen</td>\n",
       "      <td>372.84</td>\n",
       "      <td>6</td>\n",
       "    </tr>\n",
       "    <tr>\n",
       "      <th>1</th>\n",
       "      <td>2</td>\n",
       "      <td>43</td>\n",
       "      <td>Non-binary</td>\n",
       "      <td>South Anne</td>\n",
       "      <td>90419</td>\n",
       "      <td>2024-04-27</td>\n",
       "      <td>view</td>\n",
       "      <td>social media</td>\n",
       "      <td>135</td>\n",
       "      <td>2024-03-18</td>\n",
       "      <td>84</td>\n",
       "      <td>Clothing</td>\n",
       "      <td>485.74</td>\n",
       "      <td>9</td>\n",
       "    </tr>\n",
       "    <tr>\n",
       "      <th>2</th>\n",
       "      <td>2</td>\n",
       "      <td>43</td>\n",
       "      <td>Non-binary</td>\n",
       "      <td>South Anne</td>\n",
       "      <td>90419</td>\n",
       "      <td>2024-04-27</td>\n",
       "      <td>view</td>\n",
       "      <td>social media</td>\n",
       "      <td>223</td>\n",
       "      <td>2024-07-04</td>\n",
       "      <td>99</td>\n",
       "      <td>Sports</td>\n",
       "      <td>482.55</td>\n",
       "      <td>6</td>\n",
       "    </tr>\n",
       "    <tr>\n",
       "      <th>3</th>\n",
       "      <td>2</td>\n",
       "      <td>43</td>\n",
       "      <td>Non-binary</td>\n",
       "      <td>South Anne</td>\n",
       "      <td>90419</td>\n",
       "      <td>2024-04-27</td>\n",
       "      <td>view</td>\n",
       "      <td>social media</td>\n",
       "      <td>886</td>\n",
       "      <td>2024-03-13</td>\n",
       "      <td>170</td>\n",
       "      <td>Home &amp; Kitchen</td>\n",
       "      <td>272.24</td>\n",
       "      <td>9</td>\n",
       "    </tr>\n",
       "    <tr>\n",
       "      <th>4</th>\n",
       "      <td>2</td>\n",
       "      <td>43</td>\n",
       "      <td>Non-binary</td>\n",
       "      <td>South Anne</td>\n",
       "      <td>90419</td>\n",
       "      <td>2024-04-27</td>\n",
       "      <td>view</td>\n",
       "      <td>social media</td>\n",
       "      <td>1183</td>\n",
       "      <td>2024-02-06</td>\n",
       "      <td>241</td>\n",
       "      <td>Books</td>\n",
       "      <td>13.68</td>\n",
       "      <td>7</td>\n",
       "    </tr>\n",
       "  </tbody>\n",
       "</table>\n",
       "</div>"
      ],
      "text/plain": [
       "   Customer ID  Age      Gender       Location  Income Level Interaction Date  \\\n",
       "0            1   65        Male  Martinezmouth         61083       2024-02-28   \n",
       "1            2   43  Non-binary     South Anne         90419       2024-04-27   \n",
       "2            2   43  Non-binary     South Anne         90419       2024-04-27   \n",
       "3            2   43  Non-binary     South Anne         90419       2024-04-27   \n",
       "4            2   43  Non-binary     South Anne         90419       2024-04-27   \n",
       "\n",
       "  Interaction Type Interaction Channel  Transaction ID Transaction Date  \\\n",
       "0            share             website             178       2024-05-31   \n",
       "1             view        social media             135       2024-03-18   \n",
       "2             view        social media             223       2024-07-04   \n",
       "3             view        social media             886       2024-03-13   \n",
       "4             view        social media            1183       2024-02-06   \n",
       "\n",
       "   Product ID Product Category  Sales Amount  Quantity  \n",
       "0          88   Home & Kitchen        372.84         6  \n",
       "1          84         Clothing        485.74         9  \n",
       "2          99           Sports        482.55         6  \n",
       "3         170   Home & Kitchen        272.24         9  \n",
       "4         241            Books         13.68         7  "
      ]
     },
     "execution_count": 217,
     "metadata": {},
     "output_type": "execute_result"
    }
   ],
   "source": [
    "converted_cust_data = cust_demo_data.merge(cust_intr_purch, on = \"Customer ID\" , how = \"inner\")\n",
    "converted_cust_data.head()"
   ]
  },
  {
   "cell_type": "code",
   "execution_count": 221,
   "id": "f335d310-1f09-4d73-888b-c66f20c95192",
   "metadata": {},
   "outputs": [
    {
     "data": {
      "text/html": [
       "<div>\n",
       "<style scoped>\n",
       "    .dataframe tbody tr th:only-of-type {\n",
       "        vertical-align: middle;\n",
       "    }\n",
       "\n",
       "    .dataframe tbody tr th {\n",
       "        vertical-align: top;\n",
       "    }\n",
       "\n",
       "    .dataframe thead th {\n",
       "        text-align: right;\n",
       "    }\n",
       "</style>\n",
       "<table border=\"1\" class=\"dataframe\">\n",
       "  <thead>\n",
       "    <tr style=\"text-align: right;\">\n",
       "      <th></th>\n",
       "      <th>Customer ID</th>\n",
       "      <th>Age</th>\n",
       "      <th>Gender</th>\n",
       "      <th>Location</th>\n",
       "      <th>Income Level</th>\n",
       "      <th>Interaction Date</th>\n",
       "      <th>Interaction Type</th>\n",
       "      <th>Interaction Channel</th>\n",
       "      <th>Transaction ID</th>\n",
       "      <th>Transaction Date</th>\n",
       "      <th>Product ID</th>\n",
       "      <th>Product Category</th>\n",
       "      <th>Sales Amount</th>\n",
       "      <th>Quantity</th>\n",
       "    </tr>\n",
       "  </thead>\n",
       "  <tbody>\n",
       "    <tr>\n",
       "      <th>85</th>\n",
       "      <td>52</td>\n",
       "      <td>20</td>\n",
       "      <td>Other</td>\n",
       "      <td>Dianaton</td>\n",
       "      <td>19176</td>\n",
       "      <td>2024-05-04</td>\n",
       "      <td>view</td>\n",
       "      <td>social media</td>\n",
       "      <td>849</td>\n",
       "      <td>2024-05-19</td>\n",
       "      <td>88</td>\n",
       "      <td>Books</td>\n",
       "      <td>488.03</td>\n",
       "      <td>4</td>\n",
       "    </tr>\n",
       "    <tr>\n",
       "      <th>86</th>\n",
       "      <td>52</td>\n",
       "      <td>20</td>\n",
       "      <td>Other</td>\n",
       "      <td>Dianaton</td>\n",
       "      <td>19176</td>\n",
       "      <td>2024-05-04</td>\n",
       "      <td>view</td>\n",
       "      <td>social media</td>\n",
       "      <td>1105</td>\n",
       "      <td>2024-04-27</td>\n",
       "      <td>195</td>\n",
       "      <td>Home &amp; Kitchen</td>\n",
       "      <td>264.88</td>\n",
       "      <td>3</td>\n",
       "    </tr>\n",
       "    <tr>\n",
       "      <th>101</th>\n",
       "      <td>65</td>\n",
       "      <td>21</td>\n",
       "      <td>Male</td>\n",
       "      <td>Lukemouth</td>\n",
       "      <td>26780</td>\n",
       "      <td>2024-01-18</td>\n",
       "      <td>click</td>\n",
       "      <td>social media</td>\n",
       "      <td>584</td>\n",
       "      <td>2024-02-25</td>\n",
       "      <td>31</td>\n",
       "      <td>Clothing</td>\n",
       "      <td>313.44</td>\n",
       "      <td>6</td>\n",
       "    </tr>\n",
       "    <tr>\n",
       "      <th>168</th>\n",
       "      <td>115</td>\n",
       "      <td>20</td>\n",
       "      <td>Female</td>\n",
       "      <td>Lake Robertfurt</td>\n",
       "      <td>14709</td>\n",
       "      <td>2024-02-06</td>\n",
       "      <td>share</td>\n",
       "      <td>website</td>\n",
       "      <td>1356</td>\n",
       "      <td>2024-02-27</td>\n",
       "      <td>128</td>\n",
       "      <td>Toys</td>\n",
       "      <td>43.71</td>\n",
       "      <td>6</td>\n",
       "    </tr>\n",
       "    <tr>\n",
       "      <th>209</th>\n",
       "      <td>139</td>\n",
       "      <td>23</td>\n",
       "      <td>Non-binary</td>\n",
       "      <td>Cherylburgh</td>\n",
       "      <td>19490</td>\n",
       "      <td>2024-04-05</td>\n",
       "      <td>view</td>\n",
       "      <td>email</td>\n",
       "      <td>616</td>\n",
       "      <td>2024-02-23</td>\n",
       "      <td>177</td>\n",
       "      <td>Toys</td>\n",
       "      <td>284.77</td>\n",
       "      <td>10</td>\n",
       "    </tr>\n",
       "  </tbody>\n",
       "</table>\n",
       "</div>"
      ],
      "text/plain": [
       "     Customer ID  Age      Gender         Location  Income Level  \\\n",
       "85            52   20       Other         Dianaton         19176   \n",
       "86            52   20       Other         Dianaton         19176   \n",
       "101           65   21        Male        Lukemouth         26780   \n",
       "168          115   20      Female  Lake Robertfurt         14709   \n",
       "209          139   23  Non-binary      Cherylburgh         19490   \n",
       "\n",
       "    Interaction Date Interaction Type Interaction Channel  Transaction ID  \\\n",
       "85        2024-05-04             view        social media             849   \n",
       "86        2024-05-04             view        social media            1105   \n",
       "101       2024-01-18            click        social media             584   \n",
       "168       2024-02-06            share             website            1356   \n",
       "209       2024-04-05             view               email             616   \n",
       "\n",
       "    Transaction Date  Product ID Product Category  Sales Amount  Quantity  \n",
       "85        2024-05-19          88            Books        488.03         4  \n",
       "86        2024-04-27         195   Home & Kitchen        264.88         3  \n",
       "101       2024-02-25          31         Clothing        313.44         6  \n",
       "168       2024-02-27         128             Toys         43.71         6  \n",
       "209       2024-02-23         177             Toys        284.77        10  "
      ]
     },
     "execution_count": 221,
     "metadata": {},
     "output_type": "execute_result"
    }
   ],
   "source": [
    "young_low_income_cnvr = converted_cust_data[(converted_cust_data[\"Age\"] > 17) & (converted_cust_data[\"Age\"] < 25) & (converted_cust_data[\"Income Level\"] < 30000)]\n",
    "young_low_income_cnvr.head()"
   ]
  },
  {
   "cell_type": "code",
   "execution_count": 223,
   "id": "8d96e220-ceaf-40ac-a44b-8bf3e132f5f3",
   "metadata": {},
   "outputs": [
    {
     "data": {
      "text/html": [
       "<div>\n",
       "<style scoped>\n",
       "    .dataframe tbody tr th:only-of-type {\n",
       "        vertical-align: middle;\n",
       "    }\n",
       "\n",
       "    .dataframe tbody tr th {\n",
       "        vertical-align: top;\n",
       "    }\n",
       "\n",
       "    .dataframe thead th {\n",
       "        text-align: right;\n",
       "    }\n",
       "</style>\n",
       "<table border=\"1\" class=\"dataframe\">\n",
       "  <thead>\n",
       "    <tr style=\"text-align: right;\">\n",
       "      <th></th>\n",
       "      <th>Customer ID</th>\n",
       "      <th>Age</th>\n",
       "      <th>Gender</th>\n",
       "      <th>Location</th>\n",
       "      <th>Income Level</th>\n",
       "      <th>Interaction Date</th>\n",
       "      <th>Interaction Type</th>\n",
       "      <th>Interaction Channel</th>\n",
       "      <th>Transaction ID</th>\n",
       "      <th>Transaction Date</th>\n",
       "      <th>Product ID</th>\n",
       "      <th>Product Category</th>\n",
       "      <th>Sales Amount</th>\n",
       "      <th>Quantity</th>\n",
       "    </tr>\n",
       "  </thead>\n",
       "  <tbody>\n",
       "    <tr>\n",
       "      <th>11</th>\n",
       "      <td>9</td>\n",
       "      <td>24</td>\n",
       "      <td>Non-binary</td>\n",
       "      <td>East Melanie</td>\n",
       "      <td>43329</td>\n",
       "      <td>2024-04-08</td>\n",
       "      <td>click</td>\n",
       "      <td>email</td>\n",
       "      <td>64</td>\n",
       "      <td>2024-02-02</td>\n",
       "      <td>372</td>\n",
       "      <td>Books</td>\n",
       "      <td>492.84</td>\n",
       "      <td>5</td>\n",
       "    </tr>\n",
       "    <tr>\n",
       "      <th>12</th>\n",
       "      <td>9</td>\n",
       "      <td>24</td>\n",
       "      <td>Non-binary</td>\n",
       "      <td>East Melanie</td>\n",
       "      <td>43329</td>\n",
       "      <td>2024-04-08</td>\n",
       "      <td>click</td>\n",
       "      <td>email</td>\n",
       "      <td>119</td>\n",
       "      <td>2024-02-26</td>\n",
       "      <td>162</td>\n",
       "      <td>Home &amp; Kitchen</td>\n",
       "      <td>425.09</td>\n",
       "      <td>3</td>\n",
       "    </tr>\n",
       "    <tr>\n",
       "      <th>13</th>\n",
       "      <td>9</td>\n",
       "      <td>24</td>\n",
       "      <td>Non-binary</td>\n",
       "      <td>East Melanie</td>\n",
       "      <td>43329</td>\n",
       "      <td>2024-04-08</td>\n",
       "      <td>click</td>\n",
       "      <td>email</td>\n",
       "      <td>1205</td>\n",
       "      <td>2024-03-14</td>\n",
       "      <td>232</td>\n",
       "      <td>Toys</td>\n",
       "      <td>188.41</td>\n",
       "      <td>3</td>\n",
       "    </tr>\n",
       "    <tr>\n",
       "      <th>30</th>\n",
       "      <td>21</td>\n",
       "      <td>19</td>\n",
       "      <td>Non-binary</td>\n",
       "      <td>Paceview</td>\n",
       "      <td>53522</td>\n",
       "      <td>2024-04-27</td>\n",
       "      <td>share</td>\n",
       "      <td>website</td>\n",
       "      <td>491</td>\n",
       "      <td>2024-03-25</td>\n",
       "      <td>207</td>\n",
       "      <td>Electronics</td>\n",
       "      <td>489.17</td>\n",
       "      <td>2</td>\n",
       "    </tr>\n",
       "    <tr>\n",
       "      <th>31</th>\n",
       "      <td>21</td>\n",
       "      <td>19</td>\n",
       "      <td>Non-binary</td>\n",
       "      <td>Paceview</td>\n",
       "      <td>53522</td>\n",
       "      <td>2024-04-27</td>\n",
       "      <td>share</td>\n",
       "      <td>website</td>\n",
       "      <td>581</td>\n",
       "      <td>2024-06-25</td>\n",
       "      <td>231</td>\n",
       "      <td>Home &amp; Kitchen</td>\n",
       "      <td>110.57</td>\n",
       "      <td>7</td>\n",
       "    </tr>\n",
       "  </tbody>\n",
       "</table>\n",
       "</div>"
      ],
      "text/plain": [
       "    Customer ID  Age      Gender      Location  Income Level Interaction Date  \\\n",
       "11            9   24  Non-binary  East Melanie         43329       2024-04-08   \n",
       "12            9   24  Non-binary  East Melanie         43329       2024-04-08   \n",
       "13            9   24  Non-binary  East Melanie         43329       2024-04-08   \n",
       "30           21   19  Non-binary      Paceview         53522       2024-04-27   \n",
       "31           21   19  Non-binary      Paceview         53522       2024-04-27   \n",
       "\n",
       "   Interaction Type Interaction Channel  Transaction ID Transaction Date  \\\n",
       "11            click               email              64       2024-02-02   \n",
       "12            click               email             119       2024-02-26   \n",
       "13            click               email            1205       2024-03-14   \n",
       "30            share             website             491       2024-03-25   \n",
       "31            share             website             581       2024-06-25   \n",
       "\n",
       "    Product ID Product Category  Sales Amount  Quantity  \n",
       "11         372            Books        492.84         5  \n",
       "12         162   Home & Kitchen        425.09         3  \n",
       "13         232             Toys        188.41         3  \n",
       "30         207      Electronics        489.17         2  \n",
       "31         231   Home & Kitchen        110.57         7  "
      ]
     },
     "execution_count": 223,
     "metadata": {},
     "output_type": "execute_result"
    }
   ],
   "source": [
    "young_medium_income_cnvr = converted_cust_data[(converted_cust_data[\"Age\"] > 17) & (converted_cust_data[\"Age\"] < 25) & (converted_cust_data[\"Income Level\"] > 30000) & (converted_cust_data[\"Income Level\"] < 75000)]\n",
    "young_medium_income_cnvr.head()"
   ]
  },
  {
   "cell_type": "code",
   "execution_count": 225,
   "id": "4331d064-5cde-47d8-8797-d5f1cedc5541",
   "metadata": {},
   "outputs": [
    {
     "data": {
      "text/html": [
       "<div>\n",
       "<style scoped>\n",
       "    .dataframe tbody tr th:only-of-type {\n",
       "        vertical-align: middle;\n",
       "    }\n",
       "\n",
       "    .dataframe tbody tr th {\n",
       "        vertical-align: top;\n",
       "    }\n",
       "\n",
       "    .dataframe thead th {\n",
       "        text-align: right;\n",
       "    }\n",
       "</style>\n",
       "<table border=\"1\" class=\"dataframe\">\n",
       "  <thead>\n",
       "    <tr style=\"text-align: right;\">\n",
       "      <th></th>\n",
       "      <th>Customer ID</th>\n",
       "      <th>Age</th>\n",
       "      <th>Gender</th>\n",
       "      <th>Location</th>\n",
       "      <th>Income Level</th>\n",
       "      <th>Interaction Date</th>\n",
       "      <th>Interaction Type</th>\n",
       "      <th>Interaction Channel</th>\n",
       "      <th>Transaction ID</th>\n",
       "      <th>Transaction Date</th>\n",
       "      <th>Product ID</th>\n",
       "      <th>Product Category</th>\n",
       "      <th>Sales Amount</th>\n",
       "      <th>Quantity</th>\n",
       "    </tr>\n",
       "  </thead>\n",
       "  <tbody>\n",
       "    <tr>\n",
       "      <th>1</th>\n",
       "      <td>2</td>\n",
       "      <td>43</td>\n",
       "      <td>Non-binary</td>\n",
       "      <td>South Anne</td>\n",
       "      <td>90419</td>\n",
       "      <td>2024-04-27</td>\n",
       "      <td>view</td>\n",
       "      <td>social media</td>\n",
       "      <td>135</td>\n",
       "      <td>2024-03-18</td>\n",
       "      <td>84</td>\n",
       "      <td>Clothing</td>\n",
       "      <td>485.74</td>\n",
       "      <td>9</td>\n",
       "    </tr>\n",
       "    <tr>\n",
       "      <th>2</th>\n",
       "      <td>2</td>\n",
       "      <td>43</td>\n",
       "      <td>Non-binary</td>\n",
       "      <td>South Anne</td>\n",
       "      <td>90419</td>\n",
       "      <td>2024-04-27</td>\n",
       "      <td>view</td>\n",
       "      <td>social media</td>\n",
       "      <td>223</td>\n",
       "      <td>2024-07-04</td>\n",
       "      <td>99</td>\n",
       "      <td>Sports</td>\n",
       "      <td>482.55</td>\n",
       "      <td>6</td>\n",
       "    </tr>\n",
       "    <tr>\n",
       "      <th>3</th>\n",
       "      <td>2</td>\n",
       "      <td>43</td>\n",
       "      <td>Non-binary</td>\n",
       "      <td>South Anne</td>\n",
       "      <td>90419</td>\n",
       "      <td>2024-04-27</td>\n",
       "      <td>view</td>\n",
       "      <td>social media</td>\n",
       "      <td>886</td>\n",
       "      <td>2024-03-13</td>\n",
       "      <td>170</td>\n",
       "      <td>Home &amp; Kitchen</td>\n",
       "      <td>272.24</td>\n",
       "      <td>9</td>\n",
       "    </tr>\n",
       "    <tr>\n",
       "      <th>4</th>\n",
       "      <td>2</td>\n",
       "      <td>43</td>\n",
       "      <td>Non-binary</td>\n",
       "      <td>South Anne</td>\n",
       "      <td>90419</td>\n",
       "      <td>2024-04-27</td>\n",
       "      <td>view</td>\n",
       "      <td>social media</td>\n",
       "      <td>1183</td>\n",
       "      <td>2024-02-06</td>\n",
       "      <td>241</td>\n",
       "      <td>Books</td>\n",
       "      <td>13.68</td>\n",
       "      <td>7</td>\n",
       "    </tr>\n",
       "    <tr>\n",
       "      <th>14</th>\n",
       "      <td>10</td>\n",
       "      <td>37</td>\n",
       "      <td>Non-binary</td>\n",
       "      <td>Port Andrew</td>\n",
       "      <td>81745</td>\n",
       "      <td>2024-05-01</td>\n",
       "      <td>share</td>\n",
       "      <td>email</td>\n",
       "      <td>342</td>\n",
       "      <td>2024-01-06</td>\n",
       "      <td>116</td>\n",
       "      <td>Books</td>\n",
       "      <td>11.30</td>\n",
       "      <td>1</td>\n",
       "    </tr>\n",
       "  </tbody>\n",
       "</table>\n",
       "</div>"
      ],
      "text/plain": [
       "    Customer ID  Age      Gender     Location  Income Level Interaction Date  \\\n",
       "1             2   43  Non-binary   South Anne         90419       2024-04-27   \n",
       "2             2   43  Non-binary   South Anne         90419       2024-04-27   \n",
       "3             2   43  Non-binary   South Anne         90419       2024-04-27   \n",
       "4             2   43  Non-binary   South Anne         90419       2024-04-27   \n",
       "14           10   37  Non-binary  Port Andrew         81745       2024-05-01   \n",
       "\n",
       "   Interaction Type Interaction Channel  Transaction ID Transaction Date  \\\n",
       "1              view        social media             135       2024-03-18   \n",
       "2              view        social media             223       2024-07-04   \n",
       "3              view        social media             886       2024-03-13   \n",
       "4              view        social media            1183       2024-02-06   \n",
       "14            share               email             342       2024-01-06   \n",
       "\n",
       "    Product ID Product Category  Sales Amount  Quantity  \n",
       "1           84         Clothing        485.74         9  \n",
       "2           99           Sports        482.55         6  \n",
       "3          170   Home & Kitchen        272.24         9  \n",
       "4          241            Books         13.68         7  \n",
       "14         116            Books         11.30         1  "
      ]
     },
     "execution_count": 225,
     "metadata": {},
     "output_type": "execute_result"
    }
   ],
   "source": [
    "middle_high_income_cnvr = converted_cust_data[(converted_cust_data[\"Age\"] > 24) & (converted_cust_data[\"Income Level\"] > 75000)]\n",
    "middle_high_income_cnvr.head()"
   ]
  },
  {
   "cell_type": "code",
   "execution_count": 233,
   "id": "ee6486f7-2ce9-4a5a-a5c1-eff5b1a28bac",
   "metadata": {},
   "outputs": [
    {
     "data": {
      "text/plain": [
       "2.74"
      ]
     },
     "execution_count": 233,
     "metadata": {},
     "output_type": "execute_result"
    }
   ],
   "source": [
    "young_low_income_cnvr_cust = young_low_income_cnvr[\"Customer ID\"].nunique()\n",
    "cnvr_young_low_income_cust = (young_low_income_cnvr_cust / total_cust_intr_purch)*100\n",
    "round(cnvr_young_low_income_cust,2)"
   ]
  },
  {
   "cell_type": "code",
   "execution_count": 235,
   "id": "312f424e-9383-4edd-80a6-ff34f1b5c4f2",
   "metadata": {},
   "outputs": [
    {
     "data": {
      "text/plain": [
       "8.38"
      ]
     },
     "execution_count": 235,
     "metadata": {},
     "output_type": "execute_result"
    }
   ],
   "source": [
    "young_medium_income_cnvr_cust = young_medium_income_cnvr[\"Customer ID\"].nunique()\n",
    "cnvr_young_medium_income_cust = (young_medium_income_cnvr_cust / total_cust_intr_purch)*100\n",
    "round(cnvr_young_medium_income_cust,2)"
   ]
  },
  {
   "cell_type": "code",
   "execution_count": 237,
   "id": "efde251f-46ee-467b-b736-2ffcdd717876",
   "metadata": {},
   "outputs": [
    {
     "data": {
      "text/plain": [
       "22.87"
      ]
     },
     "execution_count": 237,
     "metadata": {},
     "output_type": "execute_result"
    }
   ],
   "source": [
    "middle_high_income_cnvr_cust = middle_high_income_cnvr[\"Customer ID\"].nunique()\n",
    "cnvr_middle_high_income_cust = (middle_high_income_cnvr_cust / total_cust_intr_purch)*100\n",
    "round(cnvr_middle_high_income_cust,2)"
   ]
  },
  {
   "cell_type": "code",
   "execution_count": null,
   "id": "fde2bf97-0527-4dd3-a153-6dac615ab0c0",
   "metadata": {},
   "outputs": [],
   "source": []
  }
 ],
 "metadata": {
  "kernelspec": {
   "display_name": "Python 3 (ipykernel)",
   "language": "python",
   "name": "python3"
  },
  "language_info": {
   "codemirror_mode": {
    "name": "ipython",
    "version": 3
   },
   "file_extension": ".py",
   "mimetype": "text/x-python",
   "name": "python",
   "nbconvert_exporter": "python",
   "pygments_lexer": "ipython3",
   "version": "3.11.7"
  }
 },
 "nbformat": 4,
 "nbformat_minor": 5
}
